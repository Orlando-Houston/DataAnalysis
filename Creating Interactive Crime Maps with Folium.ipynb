{
 "cells": [
  {
   "cell_type": "code",
   "execution_count": null,
   "metadata": {},
   "outputs": [],
   "source": [
    "#https://blog.dominodatalab.com/creating-interactive-crime-maps-with-folium?_ga=2.34377506.2022707075.1651107338-834084722.1651107338"
   ]
  },
  {
   "cell_type": "code",
   "execution_count": null,
   "metadata": {},
   "outputs": [],
   "source": [
    "# https://python-visualization.github.io/folium/modules.html#folium.map.Marker![image.png](attachment:image.png)"
   ]
  },
  {
   "cell_type": "code",
   "execution_count": 3,
   "metadata": {},
   "outputs": [
    {
     "ename": "AttributeError",
     "evalue": "'Map' object has no attribute 'simple_marker'",
     "output_type": "error",
     "traceback": [
      "\u001b[1;31m---------------------------------------------------------------------------\u001b[0m",
      "\u001b[1;31mAttributeError\u001b[0m                            Traceback (most recent call last)",
      "\u001b[1;32m<ipython-input-3-a014d6c64a53>\u001b[0m in \u001b[0;36m<module>\u001b[1;34m\u001b[0m\n\u001b[0;32m     13\u001b[0m \u001b[1;31m# add a marker for every record in the filtered data, use a clustered view\u001b[0m\u001b[1;33m\u001b[0m\u001b[1;33m\u001b[0m\u001b[1;33m\u001b[0m\u001b[0m\n\u001b[0;32m     14\u001b[0m \u001b[1;32mfor\u001b[0m \u001b[0meach\u001b[0m \u001b[1;32min\u001b[0m \u001b[0mcrimedata\u001b[0m\u001b[1;33m[\u001b[0m\u001b[1;36m0\u001b[0m\u001b[1;33m:\u001b[0m\u001b[0mMAX_RECORDS\u001b[0m\u001b[1;33m]\u001b[0m\u001b[1;33m.\u001b[0m\u001b[0miterrows\u001b[0m\u001b[1;33m(\u001b[0m\u001b[1;33m)\u001b[0m\u001b[1;33m:\u001b[0m\u001b[1;33m\u001b[0m\u001b[1;33m\u001b[0m\u001b[0m\n\u001b[1;32m---> 15\u001b[1;33m     \u001b[0m_map\u001b[0m\u001b[1;33m.\u001b[0m\u001b[0msimple_marker\u001b[0m\u001b[1;33m(\u001b[0m\u001b[0mlocation\u001b[0m \u001b[1;33m=\u001b[0m \u001b[1;33m[\u001b[0m\u001b[0meach\u001b[0m\u001b[1;33m[\u001b[0m\u001b[1;36m1\u001b[0m\u001b[1;33m]\u001b[0m\u001b[1;33m[\u001b[0m\u001b[1;34m\"Y\"\u001b[0m\u001b[1;33m]\u001b[0m\u001b[1;33m,\u001b[0m\u001b[0meach\u001b[0m\u001b[1;33m[\u001b[0m\u001b[1;36m1\u001b[0m\u001b[1;33m]\u001b[0m\u001b[1;33m[\u001b[0m\u001b[1;34m\"X\"\u001b[0m\u001b[1;33m]\u001b[0m\u001b[1;33m]\u001b[0m\u001b[1;33m,\u001b[0m \u001b[0mclustered_marker\u001b[0m \u001b[1;33m=\u001b[0m \u001b[1;32mTrue\u001b[0m\u001b[1;33m)\u001b[0m\u001b[1;33m\u001b[0m\u001b[1;33m\u001b[0m\u001b[0m\n\u001b[0m\u001b[0;32m     16\u001b[0m \u001b[1;33m\u001b[0m\u001b[0m\n\u001b[0;32m     17\u001b[0m \u001b[0mdisplay\u001b[0m\u001b[1;33m(\u001b[0m\u001b[0m_map\u001b[0m\u001b[1;33m)\u001b[0m\u001b[1;33m\u001b[0m\u001b[1;33m\u001b[0m\u001b[0m\n",
      "\u001b[1;31mAttributeError\u001b[0m: 'Map' object has no attribute 'simple_marker'"
     ]
    }
   ],
   "source": [
    "import folium\n",
    "import pandas as pd\n",
    "\n",
    "SF_COORDINATES = (37.76, -122.45)\n",
    "crimedata = pd.read_csv(r\"Police_Department_Incident_Reports__.csv\")\n",
    "\n",
    "# for speed purposes\n",
    "MAX_RECORDS = 1000\n",
    "\n",
    "# create empty map zoomed in on San Francisco\n",
    "_map = folium.Map(location=SF_COORDINATES, zoom_start=12)\n",
    "\n",
    "# add a marker for every record in the filtered data, use a clustered view\n",
    "for each in crimedata[0:MAX_RECORDS].iterrows():\n",
    "    _map.simple_marker(location = [each[1][\"Y\"],each[1][\"X\"]], clustered_marker = True)\n",
    "\n",
    "display(_map)"
   ]
  },
  {
   "cell_type": "code",
   "execution_count": null,
   "metadata": {},
   "outputs": [],
   "source": [
    "map.create_map(path='map.html')"
   ]
  },
  {
   "cell_type": "code",
   "execution_count": null,
   "metadata": {},
   "outputs": [],
   "source": [
    "# definition of the boundaries in the map\n",
    "district_geo = r\"sfpddistricts.geojson\"\n",
    "\n",
    "# calculating total number of incidents per district\n",
    "crimedata2 = pd.DataFrame(crimedata[\"PdDistrict\"].value_counts().astype(float))\n",
    "crimedata2.to_json(\"crimeagg.json\")\n",
    "crimedata2 = crimedata2.reset_index()\n",
    "crimedata2.columns = [\"District\", \"Number\"]\n",
    "\n",
    "# creation of the choropleth map1 = folium.Map(location=SF_COORDINATES, zoom_start=12)\n",
    "map1.geo_json(geo_path = district_geo,\n",
    "data_out = \"crimeagg.json\",\n",
    "data = crimedata2,\n",
    "columns = [\"District\", \"Number\"],\n",
    "key_on = \"feature.properties.DISTRICT\",\n",
    "fill_color = \"YlOrRd\",\n",
    "fill_opacity = 0.7,\n",
    "line_opacity = 0.2,\n",
    "legend_name = \"Number of incidents per district\""
   ]
  },
  {
   "cell_type": "code",
   "execution_count": null,
   "metadata": {},
   "outputs": [],
   "source": [
    "args = sys.argv\n",
    "dayselect = args[1].split(\",\")\n",
    "crimeselect = args[2]\n",
    "\n",
    "daycond = crimedata[\"DayOfWeek\"].isin(dayselect)\n",
    "crimecond = crimedata[\"Category\"] == (crimeselect)\n",
    "\n",
    "filtered_crimedata = crimedata[crimecond   daycond]"
   ]
  }
 ],
 "metadata": {
  "kernelspec": {
   "display_name": "Python 3",
   "language": "python",
   "name": "python3"
  },
  "language_info": {
   "codemirror_mode": {
    "name": "ipython",
    "version": 3
   },
   "file_extension": ".py",
   "mimetype": "text/x-python",
   "name": "python",
   "nbconvert_exporter": "python",
   "pygments_lexer": "ipython3",
   "version": "3.8.5"
  }
 },
 "nbformat": 4,
 "nbformat_minor": 4
}
