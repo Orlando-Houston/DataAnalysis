{
 "cells": [
  {
   "cell_type": "markdown",
   "metadata": {
    "slideshow": {
     "slide_type": "slide"
    }
   },
   "source": [
    "What is Python?\n",
    "\n",
    "Python is a popular programming language. It was created by Guido van Rossum, and released in 1991.\n",
    "\n",
    "It is used for:\n",
    "\n",
    "    web & software development,\n",
    "    mathematics,\n",
    "    system scripting,\n",
    "    data analysis\n",
    "    Machine Learning and AI"
   ]
  },
  {
   "cell_type": "code",
   "execution_count": null,
   "metadata": {},
   "outputs": [],
   "source": []
  },
  {
   "cell_type": "markdown",
   "metadata": {},
   "source": [
    "What can Python do?\n",
    "\n",
    "     used on a server to create web applications.\n",
    "     used alongside software to create workflows.\n",
    "     can connect to database systems. It can also read and modify files.\n",
    "     used to handle big data and perform complex mathematics."
   ]
  },
  {
   "cell_type": "markdown",
   "metadata": {},
   "source": [
    "Why Python?\n",
    "\n",
    "    Python works on different platforms (Windows, Mac, Linux, Raspberry Pi, etc).\n",
    "    Python has a simple syntax similar to the English language.\n",
    "    Python has syntax that allows developers to write programs with fewer lines than some other programming languages."
   ]
  },
  {
   "cell_type": "markdown",
   "metadata": {},
   "source": [
    "Creating Variables\n",
    "\n",
    "Variables are containers for storing data values.\n",
    "\n",
    "A variable is created the moment you first assign a value to it."
   ]
  },
  {
   "cell_type": "code",
   "execution_count": 18,
   "metadata": {},
   "outputs": [
    {
     "name": "stdout",
     "output_type": "stream",
     "text": [
      "5\n",
      "John\n"
     ]
    }
   ],
   "source": [
    "x = 5\n",
    "y = \"John\"\n",
    "print(x)\n",
    "print(y)"
   ]
  },
  {
   "cell_type": "markdown",
   "metadata": {},
   "source": [
    "Data types for vairables:\n",
    "\n",
    "string >> 'text'\n",
    "\n",
    "integer >> 'numbers'\n",
    "\n",
    "float >> 'numbers with decimal points'\n"
   ]
  },
  {
   "cell_type": "code",
   "execution_count": 20,
   "metadata": {},
   "outputs": [
    {
     "name": "stdout",
     "output_type": "stream",
     "text": [
      "i am Ovi from Illinois\n"
     ]
    }
   ],
   "source": [
    "x = 4 \n",
    "x = \"Sally\" \n",
    "x='i am Ovi from Illinois'\n",
    "print(x) #variable takes the latest value assigned to"
   ]
  },
  {
   "cell_type": "code",
   "execution_count": 21,
   "metadata": {},
   "outputs": [],
   "source": [
    "x = \"John\"\n",
    "# is the same as\n",
    "x = 'John'"
   ]
  },
  {
   "cell_type": "code",
   "execution_count": 24,
   "metadata": {},
   "outputs": [
    {
     "name": "stdout",
     "output_type": "stream",
     "text": [
      "Orange Banana Cherry\n",
      "Mcdonalds Lebron 2020\n"
     ]
    }
   ],
   "source": [
    "# To combine both text and a variable, Python uses the + character:\n",
    "\n",
    "x, y, z = \"Orange\", \"Banana\", \"Cherry\"\n",
    "print(x,y,z)\n",
    "myname='Mcdonalds'\n",
    "surname=' Lebron'\n",
    "birthdate=' 2020'\n",
    "print(myname+surname+birthdate)"
   ]
  },
  {
   "cell_type": "code",
   "execution_count": 26,
   "metadata": {},
   "outputs": [
    {
     "name": "stdout",
     "output_type": "stream",
     "text": [
      "Python is really really really awesome !, hurray\n"
     ]
    }
   ],
   "source": [
    "x = \"awesome\"\n",
    "print(\"Python is really really really \" + x + ' !, hurray')"
   ]
  },
  {
   "cell_type": "code",
   "execution_count": 27,
   "metadata": {},
   "outputs": [
    {
     "name": "stdout",
     "output_type": "stream",
     "text": [
      "Chicago Chicago Chicago Chicago Chicago  city i live in\n"
     ]
    }
   ],
   "source": [
    "a='Chicago '\n",
    "print(a*5+' city i live in') # strings can be populated by multiplying integers"
   ]
  },
  {
   "cell_type": "code",
   "execution_count": 28,
   "metadata": {},
   "outputs": [],
   "source": [
    "x='i am 12'\n",
    "x='i do not fear from snakes'\n",
    "\n",
    "# print(x) \n",
    "\n",
    "#Which one is the output\n",
    "\n",
    "# a] i am 12\n",
    "# b] i do not fear from snakes\n",
    "# c] None of them"
   ]
  },
  {
   "cell_type": "code",
   "execution_count": 30,
   "metadata": {},
   "outputs": [],
   "source": [
    "y='hooray'*2+'its holiday'\n",
    "\n",
    "# print(y+'!')\n",
    "\n",
    "# Which one is the output\n",
    "\n",
    "# a] hooray  hooray  its  holiday!\n",
    "# b] hooray  hoorayits  holiday!\n",
    "# c] hoorayhoorayits holiday!\n",
    "# d] hoorayhoorayits holiday  !"
   ]
  },
  {
   "cell_type": "code",
   "execution_count": 31,
   "metadata": {},
   "outputs": [
    {
     "ename": "TypeError",
     "evalue": "unsupported operand type(s) for +: 'int' and 'str'",
     "output_type": "error",
     "traceback": [
      "\u001b[1;31m---------------------------------------------------------------------------\u001b[0m",
      "\u001b[1;31mTypeError\u001b[0m                                 Traceback (most recent call last)",
      "\u001b[1;32m<ipython-input-31-f0525f80078c>\u001b[0m in \u001b[0;36m<module>\u001b[1;34m\u001b[0m\n\u001b[0;32m      1\u001b[0m \u001b[0mx\u001b[0m \u001b[1;33m=\u001b[0m \u001b[1;36m5\u001b[0m\u001b[1;33m\u001b[0m\u001b[1;33m\u001b[0m\u001b[0m\n\u001b[0;32m      2\u001b[0m \u001b[0my\u001b[0m \u001b[1;33m=\u001b[0m \u001b[1;34m\"John\"\u001b[0m\u001b[1;33m\u001b[0m\u001b[1;33m\u001b[0m\u001b[0m\n\u001b[1;32m----> 3\u001b[1;33m \u001b[0mprint\u001b[0m\u001b[1;33m(\u001b[0m\u001b[0mx\u001b[0m \u001b[1;33m+\u001b[0m \u001b[0my\u001b[0m\u001b[1;33m)\u001b[0m  \u001b[1;31m# we can not add integers with strings, it gives error\u001b[0m\u001b[1;33m\u001b[0m\u001b[1;33m\u001b[0m\u001b[0m\n\u001b[0m",
      "\u001b[1;31mTypeError\u001b[0m: unsupported operand type(s) for +: 'int' and 'str'"
     ]
    }
   ],
   "source": [
    "x = 5\n",
    "y = \"John\"\n",
    "print(x + y)  # we can not add integers with strings, it gives error"
   ]
  },
  {
   "cell_type": "code",
   "execution_count": 32,
   "metadata": {},
   "outputs": [],
   "source": [
    "#         * multiplication\n",
    "#         / division\n",
    "#         - subtraction\n",
    "#         + addition\n",
    "#         ** degree\n",
    "#         > < bigger smaller\n",
    "#         <= smaller or equal\n",
    "#         != not equal\n",
    "#         %  remainder operation, gives remainder after division of two numbers i.e for 3/2 the reminder is 1"
   ]
  },
  {
   "cell_type": "code",
   "execution_count": 33,
   "metadata": {},
   "outputs": [
    {
     "name": "stdout",
     "output_type": "stream",
     "text": [
      "Line 1 - Value of c is  31\n",
      "Line 2 - Value of c is  11\n",
      "Line 3 - Value of c is  210\n",
      "Line 4 - Value of c is  2.1\n",
      "Line 5 - Value of c is  1\n",
      "Line 6 - Value of c is  8\n"
     ]
    }
   ],
   "source": [
    "a = 21\n",
    "b = 10\n",
    "c = a + b\n",
    "print (\"Line 1 - Value of c is \", c)\n",
    "\n",
    "c = a - b\n",
    "print (\"Line 2 - Value of c is \", c )\n",
    "\n",
    "c = a * b\n",
    "print (\"Line 3 - Value of c is \", c )\n",
    "\n",
    "c = a / b\n",
    "print (\"Line 4 - Value of c is \", c )\n",
    "\n",
    "c = a % b\n",
    "print (\"Line 5 - Value of c is \", c)\n",
    "a = 2\n",
    "b = 3\n",
    "c = a**b \n",
    "print (\"Line 6 - Value of c is \", c)"
   ]
  },
  {
   "cell_type": "markdown",
   "metadata": {},
   "source": [
    "### user input, Slicing, indexing¶"
   ]
  },
  {
   "cell_type": "code",
   "execution_count": 34,
   "metadata": {},
   "outputs": [
    {
     "name": "stdout",
     "output_type": "stream",
     "text": [
      "enter length of the room:6\n",
      "enter width of the room:8\n",
      "enter height of the room8\n",
      "volume of the room is: 384  meter cube\n"
     ]
    }
   ],
   "source": [
    "a=int(input('enter length of the room:')) #int(input()) function used to ask user to enter number\n",
    "b=int(input('enter width of the room:'))\n",
    "c=int(input('enter height of the room'))\n",
    "print('volume of the room is:', a*b*c,' meter cube')"
   ]
  },
  {
   "cell_type": "code",
   "execution_count": 36,
   "metadata": {},
   "outputs": [
    {
     "name": "stdout",
     "output_type": "stream",
     "text": [
      "enter something:hi\n",
      "hihihi is the sky\n"
     ]
    }
   ],
   "source": [
    "a=input('enter something:') # asking user for string input\n",
    "print(a*3+' is the sky')"
   ]
  },
  {
   "attachments": {
    "image.png": {
     "image/png": "[encoded data removed]"
    }
   },
   "cell_type": "markdown",
   "metadata": {},
   "source": [
    "##### SLICING\n",
    "![image.png](attachment:image.png)"
   ]
  },
  {
   "cell_type": "code",
   "execution_count": 40,
   "metadata": {},
   "outputs": [
    {
     "name": "stdout",
     "output_type": "stream",
     "text": [
      "17\n",
      "my city is\n"
     ]
    }
   ],
   "source": [
    "a='my city is Dallas'\n",
    "print(len(a))\n",
    "print(a[:10] ) #cut first 10 items from variable a,excluding 10th one"
   ]
  },
  {
   "cell_type": "code",
   "execution_count": 43,
   "metadata": {},
   "outputs": [
    {
     "name": "stdout",
     "output_type": "stream",
     "text": [
      "enter your name:kane\n",
      "KANE\n"
     ]
    }
   ],
   "source": [
    "a=input('enter your name:')\n",
    "print(a.upper())        # lower() >> converts all characters to lower case\n",
    "                         # upper() >> converts all characters to upper case"
   ]
  },
  {
   "cell_type": "code",
   "execution_count": 95,
   "metadata": {},
   "outputs": [
    {
     "name": "stdout",
     "output_type": "stream",
     "text": [
      "DATA ANLAYSIS IS Fdata anlaysis is f\n"
     ]
    }
   ],
   "source": [
    "a='data anlaysis is fantastic if you have enough data '\n",
    "b=a[:18].upper()+a[:18]\n",
    "print(b)"
   ]
  },
  {
   "cell_type": "code",
   "execution_count": 46,
   "metadata": {},
   "outputs": [
    {
     "name": "stdout",
     "output_type": "stream",
     "text": [
      "Name Surname   Fullname\n",
      "<class 'str'>\n"
     ]
    },
    {
     "ename": "TypeError",
     "evalue": "can't multiply sequence by non-int of type 'float'",
     "output_type": "error",
     "traceback": [
      "\u001b[1;31m---------------------------------------------------------------------------\u001b[0m",
      "\u001b[1;31mTypeError\u001b[0m                                 Traceback (most recent call last)",
      "\u001b[1;32m<ipython-input-46-8e1f5b6ea439>\u001b[0m in \u001b[0;36m<module>\u001b[1;34m\u001b[0m\n\u001b[0;32m      7\u001b[0m \u001b[0ma\u001b[0m\u001b[1;33m=\u001b[0m\u001b[1;36m4.5\u001b[0m\u001b[1;33m\u001b[0m\u001b[1;33m\u001b[0m\u001b[0m\n\u001b[0;32m      8\u001b[0m \u001b[0mb\u001b[0m\u001b[1;33m=\u001b[0m\u001b[1;34m' lebron'\u001b[0m\u001b[1;33m\u001b[0m\u001b[1;33m\u001b[0m\u001b[0m\n\u001b[1;32m----> 9\u001b[1;33m \u001b[0mprint\u001b[0m\u001b[1;33m(\u001b[0m\u001b[0ma\u001b[0m\u001b[1;33m*\u001b[0m\u001b[0mb\u001b[0m\u001b[1;33m)\u001b[0m  \u001b[1;31m# can not multiply srinng with float\u001b[0m\u001b[1;33m\u001b[0m\u001b[1;33m\u001b[0m\u001b[0m\n\u001b[0m\u001b[0;32m     10\u001b[0m \u001b[0mprint\u001b[0m\u001b[1;33m(\u001b[0m\u001b[0mtype\u001b[0m\u001b[1;33m(\u001b[0m\u001b[0ma\u001b[0m\u001b[1;33m)\u001b[0m\u001b[1;33m)\u001b[0m\u001b[1;33m\u001b[0m\u001b[1;33m\u001b[0m\u001b[0m\n",
      "\u001b[1;31mTypeError\u001b[0m: can't multiply sequence by non-int of type 'float'"
     ]
    }
   ],
   "source": [
    "a='Name'\n",
    "b=' Surname'\n",
    "c=a+b\n",
    "print(c,'  Fullname')\n",
    "\n",
    "print(type(c))  #gives type of the values, so it is a text file which we call strings\n",
    "a=4.5\n",
    "b=' lebron'\n",
    "print(a*b)  # can not multiply srinng with float\n",
    "print(type(a))"
   ]
  },
  {
   "cell_type": "code",
   "execution_count": 47,
   "metadata": {},
   "outputs": [
    {
     "name": "stdout",
     "output_type": "stream",
     "text": [
      "enter your age:22\n",
      "enter any number:43\n",
      "your pincode is: 116358\n"
     ]
    }
   ],
   "source": [
    "# ask user to enter numbers\n",
    "a = int(input('enter your age:'))\n",
    "b=int(input('enter any number:'))\n",
    "c=123*a*b\n",
    "print('your pincode is:',c)"
   ]
  },
  {
   "cell_type": "code",
   "execution_count": null,
   "metadata": {},
   "outputs": [],
   "source": [
    "# ask user to enter strings\n",
    "a=input('type your first name:')\n",
    "b=input('type your last name:')\n",
    "fullname=a+' '+b\n",
    "print('your fullname is:',fullname)"
   ]
  },
  {
   "cell_type": "code",
   "execution_count": 96,
   "metadata": {},
   "outputs": [
    {
     "data": {
      "text/plain": [
       "'Data Analysis Is Fantastic If You Have Enough Data'"
      ]
     },
     "execution_count": 96,
     "metadata": {},
     "output_type": "execute_result"
    }
   ],
   "source": [
    "# title used to convert first character of each word into upper case\n",
    "a='data analysis is fantastic if you have enough data'\n",
    "a.title()"
   ]
  },
  {
   "cell_type": "code",
   "execution_count": 48,
   "metadata": {},
   "outputs": [
    {
     "name": "stdout",
     "output_type": "stream",
     "text": [
      "I AM FROM SWEDEN, I LIKE WALKING\n",
      "i am frOM sweden, i like WALKing\n",
      "From Brazil, I Love Beach\n"
     ]
    }
   ],
   "source": [
    "a='I am frOM sweden, i like WALKing'\n",
    "print(a.upper())\n",
    "\n",
    "print(a[:3].lower()+a[3:])\n",
    "a='i am from brazil, i love beach'\n",
    "print(a[5:].title()) #converts every first character to upper case"
   ]
  },
  {
   "cell_type": "code",
   "execution_count": 51,
   "metadata": {},
   "outputs": [
    {
     "name": "stdout",
     "output_type": "stream",
     "text": [
      "['False', 'None', 'True', 'and', 'as', 'assert', 'async', 'await', 'break', 'class', 'continue', 'def', 'del', 'elif', 'else', 'except', 'finally', 'for', 'from', 'global', 'if', 'import', 'in', 'is', 'lambda', 'nonlocal', 'not', 'or', 'pass', 'raise', 'return', 'try', 'while', 'with', 'yield']\n"
     ]
    }
   ],
   "source": [
    "#reserved key words, can not be used as a variable name in python\n",
    "import keyword\n",
    "print(keyword.kwlist)"
   ]
  },
  {
   "cell_type": "code",
   "execution_count": null,
   "metadata": {},
   "outputs": [],
   "source": [
    "pss=5\n",
    "del=3"
   ]
  },
  {
   "cell_type": "markdown",
   "metadata": {},
   "source": [
    "#Type conversion: int, string, float, boolean\n",
    "\n",
    "    int >> str\n",
    "\n",
    "    str >> int\n",
    "\n",
    "    Float >> str\n"
   ]
  },
  {
   "cell_type": "code",
   "execution_count": 54,
   "metadata": {},
   "outputs": [
    {
     "name": "stdout",
     "output_type": "stream",
     "text": [
      "<class 'str'>\n",
      "enter number4\n",
      "4 <class 'str'>\n"
     ]
    },
    {
     "data": {
      "text/plain": [
       "str"
      ]
     },
     "execution_count": 54,
     "metadata": {},
     "output_type": "execute_result"
    }
   ],
   "source": [
    "a=5\n",
    "b=str(a) # converts int to string\n",
    "\n",
    "print(type(b))\n",
    "c=int(input('enter number'))\n",
    "print(str(c), type(str(c)))\n",
    "\n",
    "a='myname'\n",
    "type(a)"
   ]
  },
  {
   "cell_type": "code",
   "execution_count": null,
   "metadata": {},
   "outputs": [],
   "source": [
    "a='42343'\n",
    "b=int(a)+23\n",
    "print(b)"
   ]
  },
  {
   "cell_type": "markdown",
   "metadata": {},
   "source": [
    "#### Boolean operations"
   ]
  },
  {
   "cell_type": "code",
   "execution_count": 56,
   "metadata": {},
   "outputs": [
    {
     "name": "stdout",
     "output_type": "stream",
     "text": [
      "True\n",
      "True\n"
     ]
    }
   ],
   "source": [
    "a='jack jane clark mckenze, trump, hilary'\n",
    "\n",
    "print('jane' in a)\n",
    "\n",
    "print('Kanybek' not in a)"
   ]
  },
  {
   "cell_type": "code",
   "execution_count": null,
   "metadata": {},
   "outputs": [],
   "source": [
    "myInteger = 5\n",
    "myFloat = 5.1\n",
    "myString = \"Hello\"\n",
    "\n",
    "which one gives error\n",
    "\n",
    "a] myInteger * myFloat\n",
    "b]  myInteger * myString\n",
    "c]  myFloat * myString\n",
    "d]  None of them\n"
   ]
  },
  {
   "cell_type": "code",
   "execution_count": null,
   "metadata": {},
   "outputs": [],
   "source": [
    "#which one gives error\n",
    "\n",
    "print(\"Number of the day: \" + 5)\n",
    "print(\"Number of the day: \" + str(5))\n",
    "print(\"Number of the day:\", 5)\n",
    "print(\"Number of the day:\", str(5))"
   ]
  },
  {
   "cell_type": "code",
   "execution_count": 62,
   "metadata": {},
   "outputs": [
    {
     "name": "stdout",
     "output_type": "stream",
     "text": [
      "mississiPPi\n",
      "2\n",
      "MISSISSIPPI\n"
     ]
    }
   ],
   "source": [
    "a='mississippi'\n",
    "a=a.replace('pp','PP') # 'string'.replace('old','new') is an inbuilt function in Python programming language that returns a copy of the string \n",
    "                    #where all occurrences of a substring is replaced with another substring\n",
    "\n",
    "print(a)\n",
    "print(a.find('ss')) #location of first occurance of 's'\n",
    "print(a.upper()) #convert to upper"
   ]
  },
  {
   "cell_type": "code",
   "execution_count": 64,
   "metadata": {},
   "outputs": [
    {
     "name": "stdout",
     "output_type": "stream",
     "text": [
      "enter text:dgf\n",
      "enter number:6\n",
      "found at: -1\n",
      "after replacement:  dgfdgfdgfdgfdgfdgf ,original was: dgfdgfdgfdgfdgfdgf\n",
      "0\n"
     ]
    }
   ],
   "source": [
    "a=input('enter text:')\n",
    "b=input('enter number:')\n",
    "c=int(b)*a\n",
    "\n",
    "print('found at:', c.find('q'))\n",
    "\n",
    "print('after replacement: ',c.replace('k','Q'),',original was:',c)\n",
    "\n",
    "print(c.count('k'))"
   ]
  },
  {
   "cell_type": "code",
   "execution_count": null,
   "metadata": {},
   "outputs": [],
   "source": [
    "# Develop a program where it asks two times user input text then joins them. all texts must be in upper case.\n",
    "# After joining, convert joined text to lower case then find random letters and its location.\n",
    "\n"
   ]
  },
  {
   "cell_type": "code",
   "execution_count": null,
   "metadata": {},
   "outputs": [],
   "source": [
    "Which one does not give error ?\n",
    "\n",
    "a] myInteger = int(\"Hello!\")\n",
    "b] myFloat = float(\"Hello!\")\n",
    "c] mystr=str(56)\n",
    "d] None of them"
   ]
  },
  {
   "cell_type": "code",
   "execution_count": null,
   "metadata": {},
   "outputs": [],
   "source": [
    "### COnditional statemnets\n",
    "a=int(input('enter number:'))\n",
    "b=int(input('enter second number:'))\n",
    "c=input('what operation do you want + - * / power %')\n",
    "if c=='+':\n",
    "    print(a+b)\n",
    "elif c=='-':\n",
    "    print(a-b)\n",
    "elif c=='*':\n",
    "    print(a*b)\n",
    "elif c=='/':\n",
    "    print(a/b)\n",
    "elif c=='power':\n",
    "    if b<10:\n",
    "        print(a**b)\n",
    "    else:\n",
    "        print('too large power')\n",
    "elif c=='%':\n",
    "    print(a*(b/100))\n",
    "else:\n",
    "    print('invalid operation')"
   ]
  },
  {
   "cell_type": "code",
   "execution_count": null,
   "metadata": {},
   "outputs": [],
   "source": [
    "a=7\n",
    "if a==5:\n",
    "    print # print only if this condition is true \n",
    "else:\n",
    "    print # print if above condition is false"
   ]
  },
  {
   "cell_type": "code",
   "execution_count": null,
   "metadata": {},
   "outputs": [],
   "source": [
    "a=40\n",
    "b=300\n",
    "if a>b:\n",
    "    c='hurray'\n",
    "    print(c)\n",
    "elif a==b:\n",
    "    c='its wednesday'\n",
    "    print(c)\n",
    "elif a<b:\n",
    "    c='row row row'\n",
    "    print(c)\n",
    "else:\n",
    "    print('Access Denied')"
   ]
  },
  {
   "cell_type": "code",
   "execution_count": null,
   "metadata": {},
   "outputs": [],
   "source": [
    "a=int(input('enter first number:'))\n",
    "b=int(input('enter second number:'))\n",
    "\n",
    "if a>b:\n",
    "    print('a is bigger', a, ' ',b)\n",
    "elif a==b:\n",
    "    print('they are equal', a,' ',b)\n",
    "else:\n",
    "    print('b is greater', a, ' ', b)"
   ]
  },
  {
   "cell_type": "code",
   "execution_count": 68,
   "metadata": {},
   "outputs": [
    {
     "name": "stdout",
     "output_type": "stream",
     "text": [
      "enter word for checking palindrome: madam\n",
      "its palindrome\n"
     ]
    }
   ],
   "source": [
    "# Double Colon slicing\n",
    "#Palindrome\n",
    "# A palindrome is a word, number, phrase, or other sequence of characters \n",
    "# which reads the same backward as forward, \n",
    "# such as madam, racecar,abba\n",
    "\n",
    "a=input('enter word for checking palindrome: ')\n",
    "\n",
    "if a.lower()==a[::-1].lower(): #reverses given string\n",
    "    print('its palindrome')\n",
    "else:\n",
    "    print('not palindrome')"
   ]
  },
  {
   "cell_type": "code",
   "execution_count": null,
   "metadata": {},
   "outputs": [],
   "source": [
    "# enter your age\n",
    "# enter payment amount\n",
    "# if age is above 20 and less than 30, then apply 10% discount \n",
    "# if age is above 30 but below 45 apply 15% discount \n",
    "\n",
    "age=int(input('enter your age'))\n",
    "payment=int(input('enter amount you wanna pay'))\n",
    "if age>=20 and age<=30:\n",
    "    print(payment-(payment*0.1))\n",
    "elif age>30 and age<=45:\n",
    "    print(payment-(payment*0.15))"
   ]
  },
  {
   "cell_type": "code",
   "execution_count": null,
   "metadata": {},
   "outputs": [],
   "source": [
    "x = 30\n",
    "if x > 50:\n",
    "    print(\"That's a big number!\")\n",
    "elif x % 2 == 0:\n",
    "    print(\"That's an even number!\")\n",
    "else:\n",
    "    print(x)\n",
    "\n",
    "#   ouput is:?\n",
    "        \n",
    "# a] That's a big number!\n",
    "# b] That's an even number!\n",
    "# c] 30\n",
    "# d] The code will not have any output."
   ]
  },
  {
   "cell_type": "code",
   "execution_count": null,
   "metadata": {},
   "outputs": [],
   "source": [
    "hunger = True\n",
    "boredom = False\n",
    "\n",
    "if hunger == True and boredom == True:\n",
    "    print(\"Let's order pizza!\")\n",
    "else:\n",
    "    print(\"Let's wait until dinnertime.\")\n",
    "\n",
    "# a] Let's wait until dinnertime. \n",
    "# b] Let's order pizza!\n",
    "# c] Let's wait until dinnertime.\n",
    "# d] This code will not have any output."
   ]
  },
  {
   "cell_type": "code",
   "execution_count": null,
   "metadata": {},
   "outputs": [],
   "source": [
    "myGPA = 3.0\n",
    "requirement = 3.0\n",
    "if myGPA == requirement:\n",
    "    print(\"Welcome to the club!\")\n",
    "else:\n",
    "    print(\"Sorry, you don't have the GPA required to join.\")\n",
    "\n",
    "\n",
    "\n",
    "# a] Welcome to the club! \n",
    "# b] Sorry, you don't have the GPA required to join.\n",
    "# c] This code will not have any output.\n",
    "# d] This code will cause a syntax error."
   ]
  },
  {
   "cell_type": "code",
   "execution_count": null,
   "metadata": {},
   "outputs": [],
   "source": [
    "cleanShirts = [\"blue\", \"striped\", \"black\", \"maroon\"]\n",
    "weather = \"raining\"\n",
    "desiredShirt = \"striped\"\n",
    "raincoatClean = False\n",
    "print(\"Can I wear my striped shirt and raincoat today?\")\n",
    "if desiredShirt in cleanShirts and weather==\"raining\" and raincoatClean==True:\n",
    "    print(\"Yes!\")\n",
    "else:\n",
    "    print(\"Nope; try a different outfit.\")\n",
    "\n",
    "# a] Yes!\n",
    "# b] Can I wear my striped shirt and raincoat today?\n",
    "#    Yes!\n",
    "# c] Can I wear my striped shirt and raincoat today?\n",
    "#    Nope; try a different outfit.\n",
    "# d] This code will not have any output."
   ]
  },
  {
   "cell_type": "code",
   "execution_count": null,
   "metadata": {},
   "outputs": [],
   "source": [
    "clubMembers = [\"John\", \"Jenny\", \"Jason\", \"Jane\"]\n",
    "bannedMembers = [\"Jack\", \"Jasmine\", \"Jared\"]\n",
    "\n",
    "myName = input('ener your name:')\n",
    "\n",
    "if myName.title() in clubMembers:\n",
    "    print(\"Welcome back!\")\n",
    "elif myName.title() in bannedMembers:\n",
    "    print(\"You've been banned!\")\n",
    "else:\n",
    "    print(\"Sorry, you're not on the list.\")"
   ]
  },
  {
   "attachments": {
    "image.png": {
     "image/png": "[encoded data removed]"
    }
   },
   "cell_type": "markdown",
   "metadata": {},
   "source": [
    "### lists: #collection of ordered datatypes,\n",
    "![image.png](attachment:image.png)"
   ]
  },
  {
   "cell_type": "code",
   "execution_count": 69,
   "metadata": {},
   "outputs": [
    {
     "name": "stdout",
     "output_type": "stream",
     "text": [
      "<class 'list'>\n",
      "[1, 2, 3, -1]\n"
     ]
    },
    {
     "data": {
      "text/plain": [
       "[-1, 1, 2, 3]"
      ]
     },
     "execution_count": 69,
     "metadata": {},
     "output_type": "execute_result"
    }
   ],
   "source": [
    "a=[1,2,3,-1]\n",
    "\n",
    "print(type(a))\n",
    "\n",
    "print(a)\n",
    "\n",
    "sorted(a)"
   ]
  },
  {
   "cell_type": "code",
   "execution_count": 72,
   "metadata": {},
   "outputs": [
    {
     "data": {
      "text/plain": [
       "4"
      ]
     },
     "execution_count": 72,
     "metadata": {},
     "output_type": "execute_result"
    }
   ],
   "source": [
    "\n",
    "\n",
    "b=[1,2,3,4,'a','b','c','$$','1']\n",
    "\n",
    "b[0]+3"
   ]
  },
  {
   "cell_type": "code",
   "execution_count": 73,
   "metadata": {},
   "outputs": [
    {
     "data": {
      "text/plain": [
       "[1, 2, 'f', 5.6, 'ghj', 'dog', 'cat']"
      ]
     },
     "execution_count": 73,
     "metadata": {},
     "output_type": "execute_result"
    }
   ],
   "source": [
    "mylist=[1,2,'f',5.6,'ghj','dog','cat'] \n",
    "mylist"
   ]
  },
  {
   "cell_type": "code",
   "execution_count": 75,
   "metadata": {},
   "outputs": [
    {
     "name": "stdout",
     "output_type": "stream",
     "text": [
      "6\n"
     ]
    },
    {
     "data": {
      "text/plain": [
       "True"
      ]
     },
     "execution_count": 75,
     "metadata": {},
     "output_type": "execute_result"
    }
   ],
   "source": [
    "a=[1,2,4,45,'asd','fgdf']\n",
    "print(len(a))\n",
    "# 3 in a \n",
    "# del a[2]\n",
    "# print('dog' in a)\n",
    "'horse' not in a"
   ]
  },
  {
   "cell_type": "code",
   "execution_count": 76,
   "metadata": {},
   "outputs": [
    {
     "data": {
      "text/plain": [
       "[1, 2, 'buckle my shoe', 3, 4, 'is cold nowadays']"
      ]
     },
     "execution_count": 76,
     "metadata": {},
     "output_type": "execute_result"
    }
   ],
   "source": [
    "a=[1,2,'buckle my shoe',3,4,'shut the door']\n",
    "#a[2]='chicago illinois' replace value of index number two with \n",
    "a[-1]='is cold nowadays'\n",
    "# a\n",
    "a"
   ]
  },
  {
   "cell_type": "code",
   "execution_count": null,
   "metadata": {},
   "outputs": [],
   "source": [
    "### Nested List\n",
    "\n",
    "a=[[1,2,3],['a','b','c'],[1,2,43,'a'],['asd','543']]\n",
    "a[-1][0]"
   ]
  },
  {
   "cell_type": "code",
   "execution_count": null,
   "metadata": {},
   "outputs": [],
   "source": [
    "\n",
    "# a=[[23,45,66],[49,10,22],['firstname','lastname']]\n",
    "a=[1,2,4,3,5,6,7,8,-1,-2,-4,5,6,4,4,4,4,4]\n",
    "# min(a) # finds minumum\n",
    "# max(a)# finds maximumm\n",
    "c=sorted(a) #sorts from smallest to largest\n",
    "# c[::-1] reverses c items\n",
    "# a.append('new york') add new item\n",
    "# a.append([1,2,3,'a']) # joins new items from the back\n",
    "# a.count(4) count occurences of number 4\n",
    "# a.remove(8) delete item 8\n",
    "# a.pop() delete last item from the list\n",
    "\n",
    "a"
   ]
  },
  {
   "cell_type": "code",
   "execution_count": null,
   "metadata": {},
   "outputs": [],
   "source": [
    "a=[12,3,4,5,2,3,4,5,1,12,43,4,4,21,324,3,12,344,34,1233,324]\n",
    "average=sum(a)/len(a)\n",
    "average\n"
   ]
  },
  {
   "cell_type": "code",
   "execution_count": 77,
   "metadata": {},
   "outputs": [
    {
     "data": {
      "text/plain": [
       "['Data concepts', ' ?learning, is !,+,-,fun']"
      ]
     },
     "execution_count": 77,
     "metadata": {},
     "output_type": "execute_result"
    }
   ],
   "source": [
    "### Split Method\n",
    "a='Data concepts. ?learning, is !,+,-,fun'\n",
    "a.split('.')\n",
    "# list(a)"
   ]
  },
  {
   "cell_type": "code",
   "execution_count": null,
   "metadata": {},
   "outputs": [],
   "source": []
  },
  {
   "cell_type": "markdown",
   "metadata": {},
   "source": [
    "\n",
    "Text counting"
   ]
  },
  {
   "cell_type": "markdown",
   "metadata": {},
   "source": [
    "Data science is the driving source of how we are advancing as a society and bringing about the kind of existence \n",
    "depicted in futuristic sci-fi movies. For some, that might be a pretty bold statement, however today I \n",
    "will go over examples highlighting how we use data science to achieve the abilities presented in some of my \n",
    "favorite films which will hopefully substantiate this claim. I hope now you understand why I believe that \n",
    "data science is the future of everything. Not only can you expect driverless cars, real-time crime preventation, \n",
    "and more prevalent AI, but the possibilities of what data science can help us achieve is endless. \n",
    "It can be kind of scary but mostly exciting, so I hope you are looking forward to these future innovations with me."
   ]
  },
  {
   "cell_type": "code",
   "execution_count": 78,
   "metadata": {},
   "outputs": [
    {
     "name": "stdout",
     "output_type": "stream",
     "text": [
      "['Data', 'science', 'is', 'the', 'driving', 'source', 'of', 'how', 'we', 'are', 'advancing', 'as', 'a', 'society', 'and', 'bringing', 'about', 'the', 'kind', 'of', 'existence', 'depicted', 'in', 'futuristic', 'sci-fi', 'movies.', 'For', 'some,', 'that', 'might', 'be', 'a', 'pretty', 'bold', 'statement,', 'however', 'today', 'I', 'will', 'go', 'over', 'examples', 'highlighting', 'how', 'we', 'use', 'data', 'science', 'to', 'achieve', 'the', 'abilities', 'presented', 'in', 'some', 'of', 'my', 'favorite', 'films', 'which', 'will', 'hopefully', 'substantiate', 'this', 'claim.', 'I', 'hope', 'now', 'you', 'understand', 'why', 'I', 'believe', 'that', 'data', 'science', 'is', 'the', 'future', 'of', 'everything.', 'Not', 'only', 'can', 'you', 'expect', 'driverless', 'cars,', 'real-time', 'crime', 'preventation,', 'and', 'more', 'prevalent', 'AI,', 'but', 'the', 'possibilities', 'of', 'what', 'data', 'science', 'can', 'help', 'us', 'achieve', 'is', 'endless.', 'It', 'can', 'be', 'kind', 'of', 'scary', 'but', 'mostly', 'exciting,', 'so', 'I', 'hope', 'you', 'are', 'looking', 'forward', 'to', 'these', 'future', 'innovations', 'with', 'me.']\n"
     ]
    }
   ],
   "source": [
    "a='Data science is the driving source of how we are advancing as a society and bringing about the kind of existence depicted in futuristic sci-fi movies. For some, that might be a pretty bold statement, however today I will go over examples highlighting how we use data science to achieve the abilities presented in some of my favorite films which will hopefully substantiate this claim. I hope now you understand why I believe that data science is the future of everything. Not only can you expect driverless cars, real-time crime preventation, and more prevalent AI, but the possibilities of what data science can help us achieve is endless. It can be kind of scary but mostly exciting, so I hope you are looking forward to these future innovations with me.'\n",
    "\n",
    "list1=a.split(' ') #split every single item in a variable then put them into list\n",
    "print(list1)"
   ]
  },
  {
   "cell_type": "code",
   "execution_count": 79,
   "metadata": {},
   "outputs": [
    {
     "name": "stdout",
     "output_type": "stream",
     "text": [
      "Counter({'of': 6, 'the': 5, 'science': 4, 'I': 4, 'is': 3, 'data': 3, 'you': 3, 'can': 3, 'how': 2, 'we': 2, 'are': 2, 'a': 2, 'and': 2, 'kind': 2, 'in': 2, 'that': 2, 'be': 2, 'will': 2, 'to': 2, 'achieve': 2, 'hope': 2, 'future': 2, 'but': 2, 'Data': 1, 'driving': 1, 'source': 1, 'advancing': 1, 'as': 1, 'society': 1, 'bringing': 1, 'about': 1, 'existence': 1, 'depicted': 1, 'futuristic': 1, 'sci-fi': 1, 'movies.': 1, 'For': 1, 'some,': 1, 'might': 1, 'pretty': 1, 'bold': 1, 'statement,': 1, 'however': 1, 'today': 1, 'go': 1, 'over': 1, 'examples': 1, 'highlighting': 1, 'use': 1, 'abilities': 1, 'presented': 1, 'some': 1, 'my': 1, 'favorite': 1, 'films': 1, 'which': 1, 'hopefully': 1, 'substantiate': 1, 'this': 1, 'claim.': 1, 'now': 1, 'understand': 1, 'why': 1, 'believe': 1, 'everything.': 1, 'Not': 1, 'only': 1, 'expect': 1, 'driverless': 1, 'cars,': 1, 'real-time': 1, 'crime': 1, 'preventation,': 1, 'more': 1, 'prevalent': 1, 'AI,': 1, 'possibilities': 1, 'what': 1, 'help': 1, 'us': 1, 'endless.': 1, 'It': 1, 'scary': 1, 'mostly': 1, 'exciting,': 1, 'so': 1, 'looking': 1, 'forward': 1, 'these': 1, 'innovations': 1, 'with': 1, 'me.': 1})\n"
     ]
    }
   ],
   "source": [
    "from collections import Counter\n",
    "\n",
    "counts = Counter(list1) #county frequency of list items from list1\n",
    "print(counts)\n",
    "\n"
   ]
  },
  {
   "attachments": {
    "image.png": {
     "image/png": "[encoded data removed]"
    }
   },
   "cell_type": "markdown",
   "metadata": {},
   "source": [
    "### Loops\n",
    "![image.png](attachment:image.png)"
   ]
  },
  {
   "cell_type": "markdown",
   "metadata": {},
   "source": [
    "For Loop: A loop control structure that runs a block of code a predetermined number of times.\n",
    "\n",
    "    Iteration: A single execution of a repeated task or block of code.\n",
    "\n",
    "    Repeating some action for every letter in a string\n",
    "\n",
    "    Repeating some action a pre-determined number of times\n",
    "\n",
    "    Repeating some action for every item in a list\n"
   ]
  },
  {
   "cell_type": "code",
   "execution_count": 84,
   "metadata": {},
   "outputs": [
    {
     "name": "stdout",
     "output_type": "stream",
     "text": [
      "1:2:3:4:2:1:4:62:4:"
     ]
    }
   ],
   "source": [
    "a=[1,2,3,4,2,1,4,62,4]\n",
    "for number in a:\n",
    "    print(number,end=':')\n",
    "\n"
   ]
  },
  {
   "cell_type": "code",
   "execution_count": 85,
   "metadata": {},
   "outputs": [
    {
     "name": "stdout",
     "output_type": "stream",
     "text": [
      "2\n",
      "4\n",
      "2\n",
      "4\n",
      "62\n",
      "4\n"
     ]
    }
   ],
   "source": [
    "#list only even numbers\n",
    "for number in a:\n",
    "    if number%2==0:\n",
    "        print(number)\n",
    "    "
   ]
  },
  {
   "cell_type": "code",
   "execution_count": null,
   "metadata": {},
   "outputs": [],
   "source": [
    "# a=[1,20,32,34,36,-1,2,-3,4,2,1,4,62,4]\n",
    "# b=[]\n",
    "# for number in a:\n",
    "#     if number%2==0:\n",
    "#         b.append(number)\n",
    "# print(b)"
   ]
  },
  {
   "cell_type": "code",
   "execution_count": 87,
   "metadata": {},
   "outputs": [
    {
     "name": "stdout",
     "output_type": "stream",
     "text": [
      "['1', '2', '3', '2', '3', '4'] ['d', 'a', 't', 'a', 's', 'c', 'i', 'e', 'n', 'c', 'e', 'a', 'n', 'd', 'e', 'n', 'g', 'n']\n"
     ]
    }
   ],
   "source": [
    "a='data123 science and 23engn4'\n",
    "digits=[] #create new empty list for digits\n",
    "letters=[] #for letters\n",
    "for i in a:\n",
    "    if i.isdigit(): #check every item if digit or not\n",
    "        digits.append(i) #if digit is detected append to digits list\n",
    "    elif i.isalpha():\n",
    "        letters.append(i)\n",
    "print(digits, letters) #print results"
   ]
  },
  {
   "cell_type": "code",
   "execution_count": null,
   "metadata": {},
   "outputs": [],
   "source": [
    "fruits = [\"apple\", \"banana\", \"cherry\"]\n",
    "for x in fruits:\n",
    "    print(x)"
   ]
  },
  {
   "cell_type": "code",
   "execution_count": null,
   "metadata": {},
   "outputs": [],
   "source": [
    "# /'get only positive and negative numbers from list\n",
    "a=[-1,2,-3,4,5,6-9]\n",
    "for i in a:\n",
    "    if i>0:\n",
    "        print(i)"
   ]
  },
  {
   "cell_type": "code",
   "execution_count": null,
   "metadata": {},
   "outputs": [],
   "source": [
    "#Sum of numbers\n",
    "a=[7,5,3,4]\n",
    "s=0\n",
    "\n",
    "for i in a:\n",
    "    s=s+i\n",
    "print(s)"
   ]
  },
  {
   "cell_type": "code",
   "execution_count": 88,
   "metadata": {},
   "outputs": [
    {
     "name": "stdout",
     "output_type": "stream",
     "text": [
      "enter number:5\n",
      "10\n"
     ]
    }
   ],
   "source": [
    "# Sum of numbers before given a\n",
    "a=input('enter number:')\n",
    "s=0\n",
    "for i in range(int(a)): \n",
    "    s=s+i\n",
    "print(s)"
   ]
  },
  {
   "cell_type": "code",
   "execution_count": null,
   "metadata": {},
   "outputs": [],
   "source": [
    "a='asd asd asd fdf'\n",
    "words=0\n",
    "for i in a:\n",
    "    if i==' ':\n",
    "        words=words+1\n",
    "print(words+1)"
   ]
  },
  {
   "cell_type": "code",
   "execution_count": 89,
   "metadata": {},
   "outputs": [
    {
     "name": "stdout",
     "output_type": "stream",
     "text": [
      "this year is: 2020\n"
     ]
    }
   ],
   "source": [
    "a=[2005,2006,2020,2019,2019]\n",
    "for years in a:\n",
    "    if years==2020:\n",
    "        print('this year is:', years)"
   ]
  },
  {
   "cell_type": "code",
   "execution_count": null,
   "metadata": {},
   "outputs": [],
   "source": [
    "words = ['cat', 'window', 'refrigerator']\n",
    "for w in words:\n",
    "    print(w, len(w))"
   ]
  },
  {
   "cell_type": "code",
   "execution_count": null,
   "metadata": {},
   "outputs": [],
   "source": [
    "for num in range(2, 10):\n",
    "     if num % 2 == 0:\n",
    "         print(\"Found an even number\", num)\n",
    "         "
   ]
  },
  {
   "cell_type": "code",
   "execution_count": 91,
   "metadata": {},
   "outputs": [],
   "source": [
    "\n",
    "gadgets = ['Mobile', 'Laptop', 100, 'Camera', 310.28, 'Speakers', 27.00,'Television', 1000, 'Laptop Case', 'Camera Lens']"
   ]
  },
  {
   "cell_type": "code",
   "execution_count": 92,
   "metadata": {},
   "outputs": [
    {
     "name": "stdout",
     "output_type": "stream",
     "text": [
      "[100, 1000]\n",
      "['Mobile', 'Laptop', 'Camera', 'Speakers', 'Television', 'Laptop Case', 'Camera Lens']\n"
     ]
    }
   ],
   "source": [
    "# group items in to boxes\n",
    "a=[]\n",
    "b=[]\n",
    "for i in gadgets:\n",
    "    if type(i)==int:\n",
    "        a.append(i)\n",
    "    elif type(i)==str:\n",
    "        b.append(i)\n",
    "print(a)\n",
    "print(b)"
   ]
  },
  {
   "cell_type": "code",
   "execution_count": 93,
   "metadata": {},
   "outputs": [
    {
     "name": "stdout",
     "output_type": "stream",
     "text": [
      "[1, 2, 3, 4, 44, 5, 6, 7]\n"
     ]
    }
   ],
   "source": [
    "#remove duplicates:\n",
    "a=[1,2,3,4,1,1,2,3,44,5,6,7,2,4,2,1,1,2]\n",
    "v=[]\n",
    "for i in a:\n",
    "    if i not in v:\n",
    "        v.append(i)\n",
    "print(v)"
   ]
  },
  {
   "cell_type": "code",
   "execution_count": 94,
   "metadata": {},
   "outputs": [
    {
     "name": "stdout",
     "output_type": "stream",
     "text": [
      "Input a string: hitech field 2020\n",
      "Letters 11\n",
      "Digits 4\n"
     ]
    }
   ],
   "source": [
    "s = input(\"Input a string: \")\n",
    "d=0\n",
    "l=0\n",
    "for c in s:\n",
    "    if c.isdigit():\n",
    "        d=d+1\n",
    "    elif c.isalpha():\n",
    "        l=l+1\n",
    "    else:\n",
    "        pass\n",
    "print(\"Letters\", l)\n",
    "print(\"Digits\", d)"
   ]
  },
  {
   "cell_type": "code",
   "execution_count": null,
   "metadata": {},
   "outputs": [],
   "source": []
  },
  {
   "cell_type": "code",
   "execution_count": null,
   "metadata": {},
   "outputs": [],
   "source": []
  }
 ],
 "metadata": {
  "kernelspec": {
   "display_name": "Python 3",
   "language": "python",
   "name": "python3"
  },
  "language_info": {
   "codemirror_mode": {
    "name": "ipython",
    "version": 3
   },
   "file_extension": ".py",
   "mimetype": "text/x-python",
   "name": "python",
   "nbconvert_exporter": "python",
   "pygments_lexer": "ipython3",
   "version": "3.8.5"
  }
 },
 "nbformat": 4,
 "nbformat_minor": 2
}
