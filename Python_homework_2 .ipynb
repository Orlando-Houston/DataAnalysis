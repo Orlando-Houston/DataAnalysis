{
 "cells": [
  {
   "cell_type": "markdown",
   "metadata": {
    "id": "QsN7cWkgj6EG"
   },
   "source": [
    "2.\n",
    "\n",
    "  a. Create a for loop that prompts the user to enter 3 different items,   then appends them to new items list"
   ]
  },
  {
   "cell_type": "code",
   "execution_count": 16,
   "metadata": {
    "colab": {
     "base_uri": "https://localhost:8080/"
    },
    "id": "BZek_gMCg-kF",
    "outputId": "118f5e4a-924c-4353-ecc2-a757d96a6e49"
   },
   "outputs": [
    {
     "name": "stdout",
     "output_type": "stream",
     "text": [
      "Please Enter an item(number or texto): 789\n",
      "Please Enter an item(number or texto): lot\n",
      "Please Enter an item(number or texto): jkl\n",
      "Output:  ['789', 'lot', 'jkl']\n"
     ]
    }
   ],
   "source": [
    "new_list =[]\n",
    "for item in range(3):\n",
    "  user_input = input(\"Please Enter an item(number or texto): \")\n",
    "  new_list.append(user_input)\n",
    "print(\"Output: \",new_list)"
   ]
  },
  {
   "cell_type": "markdown",
   "metadata": {
    "id": "YOBX2-7ZltCW"
   },
   "source": [
    "b. Write a program for removing duplicates from the list, append unique values to new list"
   ]
  },
  {
   "cell_type": "code",
   "execution_count": 15,
   "metadata": {
    "colab": {
     "base_uri": "https://localhost:8080/"
    },
    "id": "VSHJ8kaKl4JR",
    "outputId": "2b91ea15-6153-44e8-de16-3147920d90ab"
   },
   "outputs": [
    {
     "name": "stdout",
     "output_type": "stream",
     "text": [
      "Output:  [1, 2, 3, 4, 5]\n"
     ]
    }
   ],
   "source": [
    "my_list =[1,2,1,3,2,4,4,5]\n",
    "my_new_list=[]\n",
    "for item in my_list:\n",
    "  if item not in my_new_list:\n",
    "    my_new_list.append(item)\n",
    "print (\"Output: \",my_new_list)"
   ]
  },
  {
   "cell_type": "markdown",
   "metadata": {
    "id": "3aHwSrTSmei-"
   },
   "source": [
    "c. Write a Python function to print a list where the values are square of numbers between a and b. ex range(10,30)>>out : 100, 121,144,169,196,225,256.........900"
   ]
  },
  {
   "cell_type": "code",
   "execution_count": 14,
   "metadata": {
    "colab": {
     "base_uri": "https://localhost:8080/"
    },
    "id": "JNs8Rhz2mk_k",
    "outputId": "8325f24b-5b94-4160-81fc-349d6d675f07"
   },
   "outputs": [
    {
     "name": "stdout",
     "output_type": "stream",
     "text": [
      "Output:  [100, 121, 144, 169, 196, 225, 256, 289, 324, 361, 400, 441, 484, 529, 576, 625, 676, 729, 784, 841, 900]\n"
     ]
    }
   ],
   "source": [
    "square_numbers=[]\n",
    "for item in range(10,30):\n",
    "  square_numbers.append(item**2)\n",
    "square_numbers.append((item+1)**2)\n",
    "print(\"Output: \",square_numbers)"
   ]
  },
  {
   "cell_type": "markdown",
   "metadata": {
    "id": "IaG2b5v-npr0"
   },
   "source": [
    "d. write function where two strings are given, \n",
    "then remove letters from first string if they are in string2\n",
    "\n",
    "ex: string1='heyhowareyou'   string2='hurray'>>>output: 'eoweo' "
   ]
  },
  {
   "cell_type": "code",
   "execution_count": 13,
   "metadata": {
    "colab": {
     "base_uri": "https://localhost:8080/"
    },
    "id": "uJr2K9IynuIU",
    "outputId": "03aff1e1-5597-4603-c88c-e21c88b59104"
   },
   "outputs": [
    {
     "name": "stdout",
     "output_type": "stream",
     "text": [
      "Output: eoweo\n"
     ]
    }
   ],
   "source": [
    "string_1 ='heyhowareyou'\n",
    "string_2 ='hurray'\n",
    "\n",
    "for item in string_2:\n",
    "  if item in string_1:\n",
    "    string_1 =string_1.replace(item,'')\n",
    "\n",
    "print(\"Output:\",string_1)"
   ]
  }
 ],
 "metadata": {
  "colab": {
   "collapsed_sections": [],
   "name": "Python_homework_2.ipynb",
   "provenance": []
  },
  "kernelspec": {
   "display_name": "Python 3",
   "language": "python",
   "name": "python3"
  },
  "language_info": {
   "codemirror_mode": {
    "name": "ipython",
    "version": 3
   },
   "file_extension": ".py",
   "mimetype": "text/x-python",
   "name": "python",
   "nbconvert_exporter": "python",
   "pygments_lexer": "ipython3",
   "version": "3.8.6"
  }
 },
 "nbformat": 4,
 "nbformat_minor": 4
}
