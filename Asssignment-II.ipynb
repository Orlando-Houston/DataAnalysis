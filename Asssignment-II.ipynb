{
 "cells": [
  {
   "cell_type": "markdown",
   "metadata": {},
   "source": [
    "* Full Name :Altun Keskin\n",
    "* Instructor:Kanybeg Duisheev\n",
    "* Course:5355"
   ]
  },
  {
   "cell_type": "code",
   "execution_count": null,
   "metadata": {},
   "outputs": [],
   "source": [
    "#https://towardsdatascience.com/15-ways-to-create-a-pandas-dataframe-754ecc082c17\n",
    "#https://towardsdatascience.com/4-different-ways-to-create-a-pandas-dataframe-91bca1ff31bb\n",
    "#https://stats.oarc.ucla.edu/other/mult-pkg/whatstat/what-is-the-difference-between-categorical-ordinal-and-interval-variables/#:~:text=Categorical%20or%20nominal,intrinsic%20ordering%20to\n",
    "#%20the%20categories.&text=Hair%20color%20is%20also%20a,brunette%2C%20red%2C%20etc.)"
   ]
  },
  {
   "cell_type": "markdown",
   "metadata": {},
   "source": [
    "1.\tCreate DataFrame shape of 300x5 from scratch\n",
    "* a.\tColumn_1: Generate random 300 floating numbers between 1 and 0\n",
    "* b.\tColumn_2: Generate random 300 integers between 10 and 1000\n",
    "* c.\tColumn_3: multiply column_2 with column_1\n",
    "* d.\tColumn_4: Generate random 300 Ordinal categorical variable with three unique values\n",
    "* e.\tColumn_5: Generate random 300 Nominal categorical variable with two unique values\n"
   ]
  },
  {
   "cell_type": "code",
   "execution_count": 1,
   "metadata": {},
   "outputs": [
    {
     "name": "stdout",
     "output_type": "stream",
     "text": [
      "     column_flt  column_int  column_multp column_or column_nom\n",
      "0      0.456287         816    372.330391    medium        yes\n",
      "1      0.873969         868    758.605118      high        yes\n",
      "2      0.083733         872     73.014923       low         no\n",
      "3      0.671426         145     97.356792      high         no\n",
      "4      0.556691         501    278.902011    medium        yes\n",
      "..          ...         ...           ...       ...        ...\n",
      "295    0.169108         829    140.190467       low        yes\n",
      "296    0.815148         882    718.960786    medium        yes\n",
      "297    0.939979         629    591.247103    medium         no\n",
      "298    0.234263         370     86.677156       low         no\n",
      "299    0.519605         815    423.477810      high         no\n",
      "\n",
      "[300 rows x 5 columns]\n"
     ]
    }
   ],
   "source": [
    "import pandas as pd\n",
    "import random\n",
    "column_1=[]\n",
    "column_2=[]\n",
    "column_3=[]\n",
    "column_4=[]\n",
    "column_5=[]\n",
    "for i in range(0,300):\n",
    "    column_1.append(random.uniform(0,1)) #gets one float number in range 1,10 and appends to list\n",
    "    column_2.append(random.choice(range(10,1000))) #gets one int number in range 10,1000 and appends to list\n",
    "    column_3.append(column_1[i]*column_2[i]) #multiplies two columns\n",
    "    column_4.append(random.choice([\"low\",\"medium\",\"high\"])) #chooses one b/w three values\n",
    "    column_5.append(random.choice([\"yes\",\"no\"])) #chooses one b/w two values\n",
    "data={\n",
    "   'column_flt':column_1,\n",
    "   'column_int':column_2,\n",
    "   'column_multp':column_3,\n",
    "   'column_or':column_4,\n",
    "   'column_nom':column_5\n",
    "}#creates data for data frame\n",
    "\n",
    "df=pd.DataFrame(data) #creates data frame\n",
    "print(df)"
   ]
  },
  {
   "cell_type": "code",
   "execution_count": null,
   "metadata": {},
   "outputs": [],
   "source": []
  },
  {
   "cell_type": "markdown",
   "metadata": {},
   "source": [
    "# 2.Get head, tail of the created data"
   ]
  },
  {
   "cell_type": "code",
   "execution_count": 2,
   "metadata": {},
   "outputs": [
    {
     "data": {
      "text/html": [
       "<div>\n",
       "<style scoped>\n",
       "    .dataframe tbody tr th:only-of-type {\n",
       "        vertical-align: middle;\n",
       "    }\n",
       "\n",
       "    .dataframe tbody tr th {\n",
       "        vertical-align: top;\n",
       "    }\n",
       "\n",
       "    .dataframe thead th {\n",
       "        text-align: right;\n",
       "    }\n",
       "</style>\n",
       "<table border=\"1\" class=\"dataframe\">\n",
       "  <thead>\n",
       "    <tr style=\"text-align: right;\">\n",
       "      <th></th>\n",
       "      <th>column_flt</th>\n",
       "      <th>column_int</th>\n",
       "      <th>column_multp</th>\n",
       "      <th>column_or</th>\n",
       "      <th>column_nom</th>\n",
       "    </tr>\n",
       "  </thead>\n",
       "  <tbody>\n",
       "    <tr>\n",
       "      <th>0</th>\n",
       "      <td>0.456287</td>\n",
       "      <td>816</td>\n",
       "      <td>372.330391</td>\n",
       "      <td>medium</td>\n",
       "      <td>yes</td>\n",
       "    </tr>\n",
       "    <tr>\n",
       "      <th>1</th>\n",
       "      <td>0.873969</td>\n",
       "      <td>868</td>\n",
       "      <td>758.605118</td>\n",
       "      <td>high</td>\n",
       "      <td>yes</td>\n",
       "    </tr>\n",
       "    <tr>\n",
       "      <th>2</th>\n",
       "      <td>0.083733</td>\n",
       "      <td>872</td>\n",
       "      <td>73.014923</td>\n",
       "      <td>low</td>\n",
       "      <td>no</td>\n",
       "    </tr>\n",
       "    <tr>\n",
       "      <th>3</th>\n",
       "      <td>0.671426</td>\n",
       "      <td>145</td>\n",
       "      <td>97.356792</td>\n",
       "      <td>high</td>\n",
       "      <td>no</td>\n",
       "    </tr>\n",
       "    <tr>\n",
       "      <th>4</th>\n",
       "      <td>0.556691</td>\n",
       "      <td>501</td>\n",
       "      <td>278.902011</td>\n",
       "      <td>medium</td>\n",
       "      <td>yes</td>\n",
       "    </tr>\n",
       "  </tbody>\n",
       "</table>\n",
       "</div>"
      ],
      "text/plain": [
       "   column_flt  column_int  column_multp column_or column_nom\n",
       "0    0.456287         816    372.330391    medium        yes\n",
       "1    0.873969         868    758.605118      high        yes\n",
       "2    0.083733         872     73.014923       low         no\n",
       "3    0.671426         145     97.356792      high         no\n",
       "4    0.556691         501    278.902011    medium        yes"
      ]
     },
     "execution_count": 2,
     "metadata": {},
     "output_type": "execute_result"
    }
   ],
   "source": [
    "df.head()"
   ]
  },
  {
   "cell_type": "code",
   "execution_count": 3,
   "metadata": {},
   "outputs": [
    {
     "data": {
      "text/html": [
       "<div>\n",
       "<style scoped>\n",
       "    .dataframe tbody tr th:only-of-type {\n",
       "        vertical-align: middle;\n",
       "    }\n",
       "\n",
       "    .dataframe tbody tr th {\n",
       "        vertical-align: top;\n",
       "    }\n",
       "\n",
       "    .dataframe thead th {\n",
       "        text-align: right;\n",
       "    }\n",
       "</style>\n",
       "<table border=\"1\" class=\"dataframe\">\n",
       "  <thead>\n",
       "    <tr style=\"text-align: right;\">\n",
       "      <th></th>\n",
       "      <th>column_flt</th>\n",
       "      <th>column_int</th>\n",
       "      <th>column_multp</th>\n",
       "      <th>column_or</th>\n",
       "      <th>column_nom</th>\n",
       "    </tr>\n",
       "  </thead>\n",
       "  <tbody>\n",
       "    <tr>\n",
       "      <th>290</th>\n",
       "      <td>0.225352</td>\n",
       "      <td>935</td>\n",
       "      <td>210.704319</td>\n",
       "      <td>high</td>\n",
       "      <td>yes</td>\n",
       "    </tr>\n",
       "    <tr>\n",
       "      <th>291</th>\n",
       "      <td>0.761268</td>\n",
       "      <td>390</td>\n",
       "      <td>296.894461</td>\n",
       "      <td>high</td>\n",
       "      <td>yes</td>\n",
       "    </tr>\n",
       "    <tr>\n",
       "      <th>292</th>\n",
       "      <td>0.435636</td>\n",
       "      <td>849</td>\n",
       "      <td>369.854951</td>\n",
       "      <td>high</td>\n",
       "      <td>yes</td>\n",
       "    </tr>\n",
       "    <tr>\n",
       "      <th>293</th>\n",
       "      <td>0.821404</td>\n",
       "      <td>372</td>\n",
       "      <td>305.562234</td>\n",
       "      <td>low</td>\n",
       "      <td>no</td>\n",
       "    </tr>\n",
       "    <tr>\n",
       "      <th>294</th>\n",
       "      <td>0.170784</td>\n",
       "      <td>656</td>\n",
       "      <td>112.034177</td>\n",
       "      <td>low</td>\n",
       "      <td>no</td>\n",
       "    </tr>\n",
       "    <tr>\n",
       "      <th>295</th>\n",
       "      <td>0.169108</td>\n",
       "      <td>829</td>\n",
       "      <td>140.190467</td>\n",
       "      <td>low</td>\n",
       "      <td>yes</td>\n",
       "    </tr>\n",
       "    <tr>\n",
       "      <th>296</th>\n",
       "      <td>0.815148</td>\n",
       "      <td>882</td>\n",
       "      <td>718.960786</td>\n",
       "      <td>medium</td>\n",
       "      <td>yes</td>\n",
       "    </tr>\n",
       "    <tr>\n",
       "      <th>297</th>\n",
       "      <td>0.939979</td>\n",
       "      <td>629</td>\n",
       "      <td>591.247103</td>\n",
       "      <td>medium</td>\n",
       "      <td>no</td>\n",
       "    </tr>\n",
       "    <tr>\n",
       "      <th>298</th>\n",
       "      <td>0.234263</td>\n",
       "      <td>370</td>\n",
       "      <td>86.677156</td>\n",
       "      <td>low</td>\n",
       "      <td>no</td>\n",
       "    </tr>\n",
       "    <tr>\n",
       "      <th>299</th>\n",
       "      <td>0.519605</td>\n",
       "      <td>815</td>\n",
       "      <td>423.477810</td>\n",
       "      <td>high</td>\n",
       "      <td>no</td>\n",
       "    </tr>\n",
       "  </tbody>\n",
       "</table>\n",
       "</div>"
      ],
      "text/plain": [
       "     column_flt  column_int  column_multp column_or column_nom\n",
       "290    0.225352         935    210.704319      high        yes\n",
       "291    0.761268         390    296.894461      high        yes\n",
       "292    0.435636         849    369.854951      high        yes\n",
       "293    0.821404         372    305.562234       low         no\n",
       "294    0.170784         656    112.034177       low         no\n",
       "295    0.169108         829    140.190467       low        yes\n",
       "296    0.815148         882    718.960786    medium        yes\n",
       "297    0.939979         629    591.247103    medium         no\n",
       "298    0.234263         370     86.677156       low         no\n",
       "299    0.519605         815    423.477810      high         no"
      ]
     },
     "execution_count": 3,
     "metadata": {},
     "output_type": "execute_result"
    }
   ],
   "source": [
    "df.tail(10)"
   ]
  },
  {
   "cell_type": "markdown",
   "metadata": {},
   "source": [
    "# 3.\tShow mean, max, median for columns 1,2,3"
   ]
  },
  {
   "cell_type": "markdown",
   "metadata": {},
   "source": [
    "#The describe() method computes and displays summary statistics for a Python dataframe. (It also operates on dataframe columns and Pandas series objects.)"
   ]
  },
  {
   "cell_type": "code",
   "execution_count": 4,
   "metadata": {},
   "outputs": [
    {
     "data": {
      "text/html": [
       "<div>\n",
       "<style scoped>\n",
       "    .dataframe tbody tr th:only-of-type {\n",
       "        vertical-align: middle;\n",
       "    }\n",
       "\n",
       "    .dataframe tbody tr th {\n",
       "        vertical-align: top;\n",
       "    }\n",
       "\n",
       "    .dataframe thead th {\n",
       "        text-align: right;\n",
       "    }\n",
       "</style>\n",
       "<table border=\"1\" class=\"dataframe\">\n",
       "  <thead>\n",
       "    <tr style=\"text-align: right;\">\n",
       "      <th></th>\n",
       "      <th>column_flt</th>\n",
       "      <th>column_int</th>\n",
       "      <th>column_multp</th>\n",
       "    </tr>\n",
       "  </thead>\n",
       "  <tbody>\n",
       "    <tr>\n",
       "      <th>count</th>\n",
       "      <td>300.000000</td>\n",
       "      <td>300.000000</td>\n",
       "      <td>300.000000</td>\n",
       "    </tr>\n",
       "    <tr>\n",
       "      <th>mean</th>\n",
       "      <td>0.504385</td>\n",
       "      <td>520.866667</td>\n",
       "      <td>261.133335</td>\n",
       "    </tr>\n",
       "    <tr>\n",
       "      <th>std</th>\n",
       "      <td>0.290866</td>\n",
       "      <td>294.208198</td>\n",
       "      <td>229.297796</td>\n",
       "    </tr>\n",
       "    <tr>\n",
       "      <th>min</th>\n",
       "      <td>0.002943</td>\n",
       "      <td>14.000000</td>\n",
       "      <td>0.569027</td>\n",
       "    </tr>\n",
       "    <tr>\n",
       "      <th>25%</th>\n",
       "      <td>0.235044</td>\n",
       "      <td>276.000000</td>\n",
       "      <td>72.200941</td>\n",
       "    </tr>\n",
       "    <tr>\n",
       "      <th>50%</th>\n",
       "      <td>0.504260</td>\n",
       "      <td>518.500000</td>\n",
       "      <td>184.374637</td>\n",
       "    </tr>\n",
       "    <tr>\n",
       "      <th>75%</th>\n",
       "      <td>0.766639</td>\n",
       "      <td>787.500000</td>\n",
       "      <td>399.115236</td>\n",
       "    </tr>\n",
       "    <tr>\n",
       "      <th>max</th>\n",
       "      <td>0.999767</td>\n",
       "      <td>997.000000</td>\n",
       "      <td>954.553614</td>\n",
       "    </tr>\n",
       "  </tbody>\n",
       "</table>\n",
       "</div>"
      ],
      "text/plain": [
       "       column_flt  column_int  column_multp\n",
       "count  300.000000  300.000000    300.000000\n",
       "mean     0.504385  520.866667    261.133335\n",
       "std      0.290866  294.208198    229.297796\n",
       "min      0.002943   14.000000      0.569027\n",
       "25%      0.235044  276.000000     72.200941\n",
       "50%      0.504260  518.500000    184.374637\n",
       "75%      0.766639  787.500000    399.115236\n",
       "max      0.999767  997.000000    954.553614"
      ]
     },
     "execution_count": 4,
     "metadata": {},
     "output_type": "execute_result"
    }
   ],
   "source": [
    "df.describe()"
   ]
  },
  {
   "cell_type": "code",
   "execution_count": 14,
   "metadata": {},
   "outputs": [
    {
     "data": {
      "text/plain": [
       "column_flt        0.504385\n",
       "column_int      520.866667\n",
       "column_multp    261.133335\n",
       "dtype: float64"
      ]
     },
     "execution_count": 14,
     "metadata": {},
     "output_type": "execute_result"
    }
   ],
   "source": [
    "df.mean()"
   ]
  },
  {
   "cell_type": "code",
   "execution_count": 15,
   "metadata": {},
   "outputs": [
    {
     "data": {
      "text/plain": [
       "column_flt        0.504260\n",
       "column_int      518.500000\n",
       "column_multp    184.374637\n",
       "dtype: float64"
      ]
     },
     "execution_count": 15,
     "metadata": {},
     "output_type": "execute_result"
    }
   ],
   "source": [
    "df.median()"
   ]
  },
  {
   "cell_type": "code",
   "execution_count": 16,
   "metadata": {},
   "outputs": [
    {
     "data": {
      "text/plain": [
       "column_flt      0.999767\n",
       "column_int           997\n",
       "column_multp     954.554\n",
       "column_or         medium\n",
       "column_nom           yes\n",
       "dtype: object"
      ]
     },
     "execution_count": 16,
     "metadata": {},
     "output_type": "execute_result"
    }
   ],
   "source": [
    "df.max()"
   ]
  },
  {
   "cell_type": "markdown",
   "metadata": {},
   "source": [
    "# 4.\tShow Pie plot of categorial features"
   ]
  },
  {
   "cell_type": "code",
   "execution_count": 17,
   "metadata": {},
   "outputs": [],
   "source": [
    "import pandas as pd\n",
    "from matplotlib.pyplot import pie, axis, show\n"
   ]
  },
  {
   "cell_type": "code",
   "execution_count": 18,
   "metadata": {},
   "outputs": [
    {
     "data": {
      "text/plain": [
       "<AxesSubplot:ylabel='None'>"
      ]
     },
     "execution_count": 18,
     "metadata": {},
     "output_type": "execute_result"
    },
    {
     "data": {
      "image/png": "[encoded data removed]",
      "text/plain": [
       "<Figure size 700x400 with 1 Axes>"
      ]
     },
     "metadata": {},
     "output_type": "display_data"
    }
   ],
   "source": [
    "df.groupby('column_or').size().plot(kind='pie', autopct='%.2f')"
   ]
  },
  {
   "cell_type": "code",
   "execution_count": 19,
   "metadata": {},
   "outputs": [
    {
     "data": {
      "text/plain": [
       "<AxesSubplot:ylabel='None'>"
      ]
     },
     "execution_count": 19,
     "metadata": {},
     "output_type": "execute_result"
    },
    {
     "data": {
      "image/png": "[encoded data removed]",
      "text/plain": [
       "<Figure size 700x400 with 1 Axes>"
      ]
     },
     "metadata": {},
     "output_type": "display_data"
    }
   ],
   "source": [
    "df.groupby('column_nom').size().plot(kind='pie', autopct='%.2f');"
   ]
  },
  {
   "cell_type": "code",
   "execution_count": 6,
   "metadata": {},
   "outputs": [],
   "source": [
    "#https://realpython.com/visualizing-python-plt-scatter/\n",
    "#https://pandas.pydata.org/pandas-docs/version/0.25.0/reference/api/pandas.DataFrame.plot.scatter.html"
   ]
  },
  {
   "cell_type": "markdown",
   "metadata": {},
   "source": [
    "# 5.\tShow Scatter plot of Column_1 against Column_2, Assign Title name, X and Y labels as well"
   ]
  },
  {
   "cell_type": "code",
   "execution_count": 7,
   "metadata": {},
   "outputs": [],
   "source": [
    "import numpy as np\n",
    "import matplotlib.pyplot as plt\n",
    "\n"
   ]
  },
  {
   "cell_type": "code",
   "execution_count": 10,
   "metadata": {},
   "outputs": [
    {
     "data": {
      "image/png": "[encoded data removed]",
      "text/plain": [
       "<Figure size 700x400 with 2 Axes>"
      ]
     },
     "metadata": {
      "needs_background": "light"
     },
     "output_type": "display_data"
    }
   ],
   "source": [
    "plt.rcParams.update({'figure.figsize':(7,4), 'figure.dpi':100})\n",
    "plt.scatter(df['column_flt'],df['column_int'],alpha=0.3,color = 'hotpink', cmap='viridis')\n",
    "plt.title(\"Compare Float vs Int\")\n",
    "plt.xlabel('column_flt')\n",
    "plt.ylabel('column_int')\n",
    "plt.colorbar();"
   ]
  },
  {
   "cell_type": "code",
   "execution_count": null,
   "metadata": {},
   "outputs": [],
   "source": [
    "#https://www.python-graph-gallery.com/scatter-plot/"
   ]
  },
  {
   "cell_type": "code",
   "execution_count": 42,
   "metadata": {},
   "outputs": [
    {
     "data": {
      "image/png": "[encoded data removed]",
      "text/plain": [
       "<Figure size 1000x800 with 1 Axes>"
      ]
     },
     "metadata": {
      "needs_background": "light"
     },
     "output_type": "display_data"
    }
   ],
   "source": [
    "import seaborn as sns\n",
    "sns.regplot(x=df[\"column_flt\"], y=df[\"column_int\"]);"
   ]
  },
  {
   "cell_type": "markdown",
   "metadata": {},
   "source": [
    "# 6.\tFilter out top Five rows according to the column_2 "
   ]
  },
  {
   "cell_type": "code",
   "execution_count": 12,
   "metadata": {},
   "outputs": [
    {
     "data": {
      "text/html": [
       "<div>\n",
       "<style scoped>\n",
       "    .dataframe tbody tr th:only-of-type {\n",
       "        vertical-align: middle;\n",
       "    }\n",
       "\n",
       "    .dataframe tbody tr th {\n",
       "        vertical-align: top;\n",
       "    }\n",
       "\n",
       "    .dataframe thead th {\n",
       "        text-align: right;\n",
       "    }\n",
       "</style>\n",
       "<table border=\"1\" class=\"dataframe\">\n",
       "  <thead>\n",
       "    <tr style=\"text-align: right;\">\n",
       "      <th></th>\n",
       "      <th>column_flt</th>\n",
       "      <th>column_int</th>\n",
       "      <th>column_multp</th>\n",
       "      <th>column_or</th>\n",
       "      <th>column_nom</th>\n",
       "    </tr>\n",
       "  </thead>\n",
       "  <tbody>\n",
       "    <tr>\n",
       "      <th>143</th>\n",
       "      <td>0.840425</td>\n",
       "      <td>997</td>\n",
       "      <td>837.903493</td>\n",
       "      <td>low</td>\n",
       "      <td>yes</td>\n",
       "    </tr>\n",
       "    <tr>\n",
       "      <th>285</th>\n",
       "      <td>0.535350</td>\n",
       "      <td>995</td>\n",
       "      <td>532.673691</td>\n",
       "      <td>high</td>\n",
       "      <td>yes</td>\n",
       "    </tr>\n",
       "    <tr>\n",
       "      <th>260</th>\n",
       "      <td>0.518344</td>\n",
       "      <td>995</td>\n",
       "      <td>515.752251</td>\n",
       "      <td>medium</td>\n",
       "      <td>no</td>\n",
       "    </tr>\n",
       "    <tr>\n",
       "      <th>266</th>\n",
       "      <td>0.002943</td>\n",
       "      <td>994</td>\n",
       "      <td>2.925581</td>\n",
       "      <td>high</td>\n",
       "      <td>no</td>\n",
       "    </tr>\n",
       "    <tr>\n",
       "      <th>258</th>\n",
       "      <td>0.302358</td>\n",
       "      <td>993</td>\n",
       "      <td>300.241907</td>\n",
       "      <td>high</td>\n",
       "      <td>yes</td>\n",
       "    </tr>\n",
       "  </tbody>\n",
       "</table>\n",
       "</div>"
      ],
      "text/plain": [
       "     column_flt  column_int  column_multp column_or column_nom\n",
       "143    0.840425         997    837.903493       low        yes\n",
       "285    0.535350         995    532.673691      high        yes\n",
       "260    0.518344         995    515.752251    medium         no\n",
       "266    0.002943         994      2.925581      high         no\n",
       "258    0.302358         993    300.241907      high        yes"
      ]
     },
     "execution_count": 12,
     "metadata": {},
     "output_type": "execute_result"
    }
   ],
   "source": [
    "df.sort_values(\"column_int\",ascending =False).head(5)"
   ]
  },
  {
   "cell_type": "markdown",
   "metadata": {},
   "source": [
    "# 7.\tFilter out rows according to the column_2 having values greater than 400 "
   ]
  },
  {
   "cell_type": "code",
   "execution_count": 11,
   "metadata": {},
   "outputs": [
    {
     "data": {
      "text/html": [
       "<div>\n",
       "<style scoped>\n",
       "    .dataframe tbody tr th:only-of-type {\n",
       "        vertical-align: middle;\n",
       "    }\n",
       "\n",
       "    .dataframe tbody tr th {\n",
       "        vertical-align: top;\n",
       "    }\n",
       "\n",
       "    .dataframe thead th {\n",
       "        text-align: right;\n",
       "    }\n",
       "</style>\n",
       "<table border=\"1\" class=\"dataframe\">\n",
       "  <thead>\n",
       "    <tr style=\"text-align: right;\">\n",
       "      <th></th>\n",
       "      <th>column_flt</th>\n",
       "      <th>column_int</th>\n",
       "      <th>column_multp</th>\n",
       "      <th>column_or</th>\n",
       "      <th>column_nom</th>\n",
       "    </tr>\n",
       "  </thead>\n",
       "  <tbody>\n",
       "    <tr>\n",
       "      <th>0</th>\n",
       "      <td>0.456287</td>\n",
       "      <td>816</td>\n",
       "      <td>372.330391</td>\n",
       "      <td>medium</td>\n",
       "      <td>yes</td>\n",
       "    </tr>\n",
       "    <tr>\n",
       "      <th>1</th>\n",
       "      <td>0.873969</td>\n",
       "      <td>868</td>\n",
       "      <td>758.605118</td>\n",
       "      <td>high</td>\n",
       "      <td>yes</td>\n",
       "    </tr>\n",
       "    <tr>\n",
       "      <th>2</th>\n",
       "      <td>0.083733</td>\n",
       "      <td>872</td>\n",
       "      <td>73.014923</td>\n",
       "      <td>low</td>\n",
       "      <td>no</td>\n",
       "    </tr>\n",
       "    <tr>\n",
       "      <th>4</th>\n",
       "      <td>0.556691</td>\n",
       "      <td>501</td>\n",
       "      <td>278.902011</td>\n",
       "      <td>medium</td>\n",
       "      <td>yes</td>\n",
       "    </tr>\n",
       "    <tr>\n",
       "      <th>5</th>\n",
       "      <td>0.206387</td>\n",
       "      <td>884</td>\n",
       "      <td>182.446433</td>\n",
       "      <td>medium</td>\n",
       "      <td>yes</td>\n",
       "    </tr>\n",
       "    <tr>\n",
       "      <th>...</th>\n",
       "      <td>...</td>\n",
       "      <td>...</td>\n",
       "      <td>...</td>\n",
       "      <td>...</td>\n",
       "      <td>...</td>\n",
       "    </tr>\n",
       "    <tr>\n",
       "      <th>294</th>\n",
       "      <td>0.170784</td>\n",
       "      <td>656</td>\n",
       "      <td>112.034177</td>\n",
       "      <td>low</td>\n",
       "      <td>no</td>\n",
       "    </tr>\n",
       "    <tr>\n",
       "      <th>295</th>\n",
       "      <td>0.169108</td>\n",
       "      <td>829</td>\n",
       "      <td>140.190467</td>\n",
       "      <td>low</td>\n",
       "      <td>yes</td>\n",
       "    </tr>\n",
       "    <tr>\n",
       "      <th>296</th>\n",
       "      <td>0.815148</td>\n",
       "      <td>882</td>\n",
       "      <td>718.960786</td>\n",
       "      <td>medium</td>\n",
       "      <td>yes</td>\n",
       "    </tr>\n",
       "    <tr>\n",
       "      <th>297</th>\n",
       "      <td>0.939979</td>\n",
       "      <td>629</td>\n",
       "      <td>591.247103</td>\n",
       "      <td>medium</td>\n",
       "      <td>no</td>\n",
       "    </tr>\n",
       "    <tr>\n",
       "      <th>299</th>\n",
       "      <td>0.519605</td>\n",
       "      <td>815</td>\n",
       "      <td>423.477810</td>\n",
       "      <td>high</td>\n",
       "      <td>no</td>\n",
       "    </tr>\n",
       "  </tbody>\n",
       "</table>\n",
       "<p>187 rows × 5 columns</p>\n",
       "</div>"
      ],
      "text/plain": [
       "     column_flt  column_int  column_multp column_or column_nom\n",
       "0      0.456287         816    372.330391    medium        yes\n",
       "1      0.873969         868    758.605118      high        yes\n",
       "2      0.083733         872     73.014923       low         no\n",
       "4      0.556691         501    278.902011    medium        yes\n",
       "5      0.206387         884    182.446433    medium        yes\n",
       "..          ...         ...           ...       ...        ...\n",
       "294    0.170784         656    112.034177       low         no\n",
       "295    0.169108         829    140.190467       low        yes\n",
       "296    0.815148         882    718.960786    medium        yes\n",
       "297    0.939979         629    591.247103    medium         no\n",
       "299    0.519605         815    423.477810      high         no\n",
       "\n",
       "[187 rows x 5 columns]"
      ]
     },
     "execution_count": 11,
     "metadata": {},
     "output_type": "execute_result"
    }
   ],
   "source": [
    "df[df['column_int']>400]"
   ]
  },
  {
   "cell_type": "code",
   "execution_count": null,
   "metadata": {},
   "outputs": [],
   "source": []
  },
  {
   "cell_type": "code",
   "execution_count": null,
   "metadata": {},
   "outputs": [],
   "source": []
  },
  {
   "cell_type": "code",
   "execution_count": null,
   "metadata": {},
   "outputs": [],
   "source": []
  }
 ],
 "metadata": {
  "kernelspec": {
   "display_name": "Python 3",
   "language": "python",
   "name": "python3"
  },
  "language_info": {
   "codemirror_mode": {
    "name": "ipython",
    "version": 3
   },
   "file_extension": ".py",
   "mimetype": "text/x-python",
   "name": "python",
   "nbconvert_exporter": "python",
   "pygments_lexer": "ipython3",
   "version": "3.8.5"
  }
 },
 "nbformat": 4,
 "nbformat_minor": 4
}
