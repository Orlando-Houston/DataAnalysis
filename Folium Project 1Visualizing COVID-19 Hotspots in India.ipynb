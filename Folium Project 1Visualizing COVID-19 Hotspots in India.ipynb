{
 "cells": [
  {
   "cell_type": "code",
   "execution_count": null,
   "metadata": {},
   "outputs": [],
   "source": [
    "# https://www.analyticsvidhya.com/blog/2020/06/guide-geospatial-analysis-folium-python/"
   ]
  },
  {
   "cell_type": "code",
   "execution_count": null,
   "metadata": {},
   "outputs": [],
   "source": []
  },
  {
   "cell_type": "code",
   "execution_count": null,
   "metadata": {},
   "outputs": [],
   "source": []
  },
  {
   "cell_type": "code",
   "execution_count": null,
   "metadata": {},
   "outputs": [],
   "source": [
    "import numpy as np\n",
    "import pandas as pd\n",
    "\n",
    "# For plotting maps\n",
    "import folium\n",
    "\n",
    "# For Regular Expressions\n",
    "import re\n",
    "\n",
    "# For working with geographical data\n",
    "import geopandas\n",
    "\n",
    "# For plotting in python\n",
    "import matplotlib\n",
    "import matplotlib.pyplot as plt"
   ]
  },
  {
   "cell_type": "code",
   "execution_count": null,
   "metadata": {},
   "outputs": [],
   "source": [
    "df_covid=pd.read_csv('/covid19-corona-virus-india-dataset/complete.csv')\n",
    "df_covid.head()"
   ]
  },
  {
   "cell_type": "code",
   "execution_count": null,
   "metadata": {},
   "outputs": [],
   "source": [
    "india_geojson=geopandas.read_file('/india-geojson/india_geo.json')\n",
    "india_geojson.head()"
   ]
  },
  {
   "cell_type": "code",
   "execution_count": null,
   "metadata": {},
   "outputs": [],
   "source": [
    "india_geojson.plot()"
   ]
  },
  {
   "cell_type": "code",
   "execution_count": null,
   "metadata": {},
   "outputs": [],
   "source": [
    "df_covid.isnull().sum()"
   ]
  },
  {
   "cell_type": "code",
   "execution_count": null,
   "metadata": {},
   "outputs": [],
   "source": [
    "df_covid.dtypes"
   ]
  },
  {
   "cell_type": "code",
   "execution_count": null,
   "metadata": {},
   "outputs": [],
   "source": [
    "df_covid['Date']=pd.to_datetime(df_covid['Date']).apply(lambda x: x - pd.DateOffset(days=1))\n"
   ]
  },
  {
   "cell_type": "code",
   "execution_count": null,
   "metadata": {},
   "outputs": [],
   "source": [
    "df_covid['Name of State / UT'].unique()"
   ]
  },
  {
   "cell_type": "code",
   "execution_count": null,
   "metadata": {},
   "outputs": [],
   "source": [
    "df_covid['Name of State / UT']=df_covid['Name of State / UT'].apply(lambda x: re.sub('Union Territory of ','',x))\n",
    "df_covid['Name of State / UT'].replace('Telengana','Telangana',inplace=True)\n",
    "df_covid['Name of State / UT'].replace('Dadar Nagar Haveli','Dadra and Nagar Haveli',inplace=True)\n"
   ]
  },
  {
   "cell_type": "code",
   "execution_count": null,
   "metadata": {},
   "outputs": [],
   "source": [
    "id_dict={'Andaman and Nicobar Islands': '0',\n",
    " 'Arunachal Pradesh': '1',\n",
    " 'Assam': '2',\n",
    " 'Bihar': '3',\n",
    " 'Chandigarh': '4',\n",
    " 'Chhattisgarh': '5',\n",
    " 'Dadra and Nagar Haveli': '6',\n",
    " 'Daman and Diu': '7',\n",
    " 'Goa': '8',\n",
    " 'Gujarat': '9',\n",
    " 'Haryana': '10',\n",
    " 'Himachal Pradesh': '11',\n",
    " 'Jharkhand': '12',\n",
    " 'Karnataka': '13',\n",
    " 'Kerala': '14',\n",
    " 'Lakshadweep': '15',\n",
    " 'Madhya Pradesh': '16',\n",
    " 'Maharashtra': '17',\n",
    " 'Manipur': '18',\n",
    " 'Meghalaya': '19',\n",
    " 'Mizoram': '20',\n",
    " 'Nagaland': '21',\n",
    " 'Delhi': '22',\n",
    " 'Puducherry': '23',\n",
    " 'Punjab': '24',\n",
    " 'Rajasthan': '25',\n",
    " 'Sikkim': '26',\n",
    " 'Tamil Nadu': '27',\n",
    " 'Telangana': '28',\n",
    " 'Tripura': '29',\n",
    " 'Uttar Pradesh': '30',\n",
    " 'Uttarakhand': '31',\n",
    " 'West Bengal': '32',\n",
    " 'Odisha': '33',\n",
    " 'Andhra Pradesh': '34',\n",
    " 'Jammu and Kashmir': '35',\n",
    " 'Ladakh': '36'}\n",
    " \n",
    "# Creating IDs using the above dictionary\n",
    "df_covid['state_id']=df_covid['Name of State / UT'].map(id_dict)"
   ]
  },
  {
   "cell_type": "code",
   "execution_count": null,
   "metadata": {},
   "outputs": [],
   "source": [
    "df_covid['Active Cases']=df_covid['Total Confirmed cases']-(df_covid['Cured/Discharged/Migrated']+df_covid['Death'])\n",
    "df_covid.head()"
   ]
  },
  {
   "cell_type": "code",
   "execution_count": null,
   "metadata": {},
   "outputs": [],
   "source": [
    "bins=np.linspace(min(df_covid['Active Cases']),max(df_covid['Active Cases']),11)\n",
    "bins"
   ]
  },
  {
   "cell_type": "code",
   "execution_count": null,
   "metadata": {},
   "outputs": [],
   "source": [
    "# Coloring states and UTs with active COVID-19 cases\n",
    "df_covid['color']=pd.cut(df_covid['Active Cases'],bins,labels=['#FFEBEB','#F8D2D4','#F2B9BE','#EBA1A8','#E58892','#DE6F7C','#D85766','#D13E50','#CB253A','#C50D24'],include_lowest=False)\n",
    "# Coloring states and UTs with no active cases but previously had\n",
    "df_covid['color'].replace(np.nan,'#32CD32',inplace=True)"
   ]
  },
  {
   "cell_type": "code",
   "execution_count": null,
   "metadata": {},
   "outputs": [],
   "source": [
    "df_covid=df_covid[['Date','state_id','color']]\n",
    "df_covid.head()"
   ]
  },
  {
   "cell_type": "code",
   "execution_count": null,
   "metadata": {},
   "outputs": [],
   "source": []
  }
 ],
 "metadata": {
  "kernelspec": {
   "display_name": "Python 3",
   "language": "python",
   "name": "python3"
  },
  "language_info": {
   "codemirror_mode": {
    "name": "ipython",
    "version": 3
   },
   "file_extension": ".py",
   "mimetype": "text/x-python",
   "name": "python",
   "nbconvert_exporter": "python",
   "pygments_lexer": "ipython3",
   "version": "3.8.5"
  }
 },
 "nbformat": 4,
 "nbformat_minor": 4
}
